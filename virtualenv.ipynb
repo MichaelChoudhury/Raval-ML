{
  "nbformat": 4,
  "nbformat_minor": 0,
  "metadata": {
    "colab": {
      "name": "virtualenv.ipynb",
      "version": "0.3.2",
      "provenance": [],
      "collapsed_sections": [],
      "include_colab_link": true
    },
    "kernelspec": {
      "name": "python3",
      "display_name": "Python 3"
    }
  },
  "cells": [
    {
      "cell_type": "markdown",
      "metadata": {
        "id": "view-in-github",
        "colab_type": "text"
      },
      "source": [
        "<a href=\"https://colab.research.google.com/github/MichaelChoudhury/Raval-ML/blob/master/virtualenv.ipynb\" target=\"_parent\"><img src=\"https://colab.research.google.com/assets/colab-badge.svg\" alt=\"Open In Colab\"/></a>"
      ]
    },
    {
      "cell_type": "code",
      "metadata": {
        "id": "YHYvfHuly9Y4",
        "colab_type": "code",
        "outputId": "206039e0-3646-45f6-c7b8-9f9fd4acc7e7",
        "colab": {
          "base_uri": "https://localhost:8080/",
          "height": 187
        }
      },
      "source": [
        "!pip3 install virtualenv\n",
        "!virtualenv theanoEnv"
      ],
      "execution_count": 3,
      "outputs": [
        {
          "output_type": "stream",
          "text": [
            "Collecting virtualenv\n",
            "\u001b[?25l  Downloading https://files.pythonhosted.org/packages/f7/69/1ad2d17560c4fc60170056dcd0a568b83f3453a2ac91155af746bcdb9a07/virtualenv-16.7.4-py2.py3-none-any.whl (3.3MB)\n",
            "\u001b[K     |████████████████████████████████| 3.3MB 2.8MB/s \n",
            "\u001b[?25hInstalling collected packages: virtualenv\n",
            "Successfully installed virtualenv-16.7.4\n",
            "Using base prefix '/usr'\n",
            "New python executable in /content/theanoEnv/bin/python3\n",
            "Also creating executable in /content/theanoEnv/bin/python\n",
            "Installing setuptools, pip, wheel...\n",
            "done.\n"
          ],
          "name": "stdout"
        }
      ]
    },
    {
      "cell_type": "code",
      "metadata": {
        "id": "e-ZquFUszJD-",
        "colab_type": "code",
        "outputId": "6630b17e-e908-4091-e328-f1f86959edad",
        "colab": {
          "base_uri": "https://localhost:8080/",
          "height": 343
        }
      },
      "source": [
        "!source /content/theanoEnv/bin/activate; pip3 install theano"
      ],
      "execution_count": 4,
      "outputs": [
        {
          "output_type": "stream",
          "text": [
            "Collecting theano\n",
            "\u001b[?25l  Downloading https://files.pythonhosted.org/packages/7d/c4/6341148ad458b6cd8361b774d7ee6895c38eab88f05331f22304c484ed5d/Theano-1.0.4.tar.gz (2.8MB)\n",
            "\r\u001b[K     |▏                               | 10kB 10.8MB/s eta 0:00:01\r\u001b[K     |▎                               | 20kB 1.8MB/s eta 0:00:02\r\u001b[K     |▍                               | 30kB 2.6MB/s eta 0:00:02\r\u001b[K     |▌                               | 40kB 1.7MB/s eta 0:00:02\r\u001b[K     |▋                               | 51kB 2.1MB/s eta 0:00:02\r\u001b[K     |▊                               | 61kB 2.5MB/s eta 0:00:02\r\u001b[K     |▉                               | 71kB 2.9MB/s eta 0:00:01\r\u001b[K     |█                               | 81kB 3.3MB/s eta 0:00:01\r\u001b[K     |█                               | 92kB 3.6MB/s eta 0:00:01\r\u001b[K     |█▏                              | 102kB 2.8MB/s eta 0:00:01\r\u001b[K     |█▎                              | 112kB 2.8MB/s eta 0:00:01\r\u001b[K     |█▍                              | 122kB 2.8MB/s eta 0:00:01\r\u001b[K     |█▌                              | 133kB 2.8MB/s eta 0:00:01\r\u001b[K     |█▋                              | 143kB 2.8MB/s eta 0:00:01\r\u001b[K     |█▊                              | 153kB 2.8MB/s eta 0:00:01\r\u001b[K     |█▉                              | 163kB 2.8MB/s eta 0:00:01\r\u001b[K     |██                              | 174kB 2.8MB/s eta 0:00:01\r\u001b[K     |██                              | 184kB 2.8MB/s eta 0:00:01\r\u001b[K     |██▏                             | 194kB 2.8MB/s eta 0:00:01\r\u001b[K     |██▎                             | 204kB 2.8MB/s eta 0:00:01\r\u001b[K     |██▍                             | 215kB 2.8MB/s eta 0:00:01\r\u001b[K     |██▌                             | 225kB 2.8MB/s eta 0:00:01\r\u001b[K     |██▋                             | 235kB 2.8MB/s eta 0:00:01\r\u001b[K     |██▊                             | 245kB 2.8MB/s eta 0:00:01\r\u001b[K     |██▉                             | 256kB 2.8MB/s eta 0:00:01\r\u001b[K     |███                             | 266kB 2.8MB/s eta 0:00:01\r\u001b[K     |███▏                            | 276kB 2.8MB/s eta 0:00:01\r\u001b[K     |███▎                            | 286kB 2.8MB/s eta 0:00:01\r\u001b[K     |███▍                            | 296kB 2.8MB/s eta 0:00:01\r\u001b[K     |███▌                            | 307kB 2.8MB/s eta 0:00:01\r\u001b[K     |███▋                            | 317kB 2.8MB/s eta 0:00:01\r\u001b[K     |███▊                            | 327kB 2.8MB/s eta 0:00:01\r\u001b[K     |███▉                            | 337kB 2.8MB/s eta 0:00:01\r\u001b[K     |████                            | 348kB 2.8MB/s eta 0:00:01\r\u001b[K     |████                            | 358kB 2.8MB/s eta 0:00:01\r\u001b[K     |████▏                           | 368kB 2.8MB/s eta 0:00:01\r\u001b[K     |████▎                           | 378kB 2.8MB/s eta 0:00:01\r\u001b[K     |████▍                           | 389kB 2.8MB/s eta 0:00:01\r\u001b[K     |████▌                           | 399kB 2.8MB/s eta 0:00:01\r\u001b[K     |████▋                           | 409kB 2.8MB/s eta 0:00:01\r\u001b[K     |████▊                           | 419kB 2.8MB/s eta 0:00:01\r\u001b[K     |████▉                           | 430kB 2.8MB/s eta 0:00:01\r\u001b[K     |█████                           | 440kB 2.8MB/s eta 0:00:01\r\u001b[K     |█████                           | 450kB 2.8MB/s eta 0:00:01\r\u001b[K     |█████▏                          | 460kB 2.8MB/s eta 0:00:01\r\u001b[K     |█████▎                          | 471kB 2.8MB/s eta 0:00:01\r\u001b[K     |█████▍                          | 481kB 2.8MB/s eta 0:00:01\r\u001b[K     |█████▌                          | 491kB 2.8MB/s eta 0:00:01\r\u001b[K     |█████▋                          | 501kB 2.8MB/s eta 0:00:01\r\u001b[K     |█████▊                          | 512kB 2.8MB/s eta 0:00:01\r\u001b[K     |█████▉                          | 522kB 2.8MB/s eta 0:00:01\r\u001b[K     |██████                          | 532kB 2.8MB/s eta 0:00:01\r\u001b[K     |██████▏                         | 542kB 2.8MB/s eta 0:00:01\r\u001b[K     |██████▎                         | 552kB 2.8MB/s eta 0:00:01\r\u001b[K     |██████▍                         | 563kB 2.8MB/s eta 0:00:01\r\u001b[K     |██████▌                         | 573kB 2.8MB/s eta 0:00:01\r\u001b[K     |██████▋                         | 583kB 2.8MB/s eta 0:00:01\r\u001b[K     |██████▊                         | 593kB 2.8MB/s eta 0:00:01\r\u001b[K     |██████▉                         | 604kB 2.8MB/s eta 0:00:01\r\u001b[K     |███████                         | 614kB 2.8MB/s eta 0:00:01\r\u001b[K     |███████                         | 624kB 2.8MB/s eta 0:00:01\r\u001b[K     |███████▏                        | 634kB 2.8MB/s eta 0:00:01\r\u001b[K     |███████▎                        | 645kB 2.8MB/s eta 0:00:01\r\u001b[K     |███████▍                        | 655kB 2.8MB/s eta 0:00:01\r\u001b[K     |███████▌                        | 665kB 2.8MB/s eta 0:00:01\r\u001b[K     |███████▋                        | 675kB 2.8MB/s eta 0:00:01\r\u001b[K     |███████▊                        | 686kB 2.8MB/s eta 0:00:01\r\u001b[K     |███████▉                        | 696kB 2.8MB/s eta 0:00:01\r\u001b[K     |████████                        | 706kB 2.8MB/s eta 0:00:01\r\u001b[K     |████████                        | 716kB 2.8MB/s eta 0:00:01\r\u001b[K     |████████▏                       | 727kB 2.8MB/s eta 0:00:01\r\u001b[K     |████████▎                       | 737kB 2.8MB/s eta 0:00:01\r\u001b[K     |████████▍                       | 747kB 2.8MB/s eta 0:00:01\r\u001b[K     |████████▌                       | 757kB 2.8MB/s eta 0:00:01\r\u001b[K     |████████▋                       | 768kB 2.8MB/s eta 0:00:01\r\u001b[K     |████████▊                       | 778kB 2.8MB/s eta 0:00:01\r\u001b[K     |████████▉                       | 788kB 2.8MB/s eta 0:00:01\r\u001b[K     |█████████                       | 798kB 2.8MB/s eta 0:00:01\r\u001b[K     |█████████▏                      | 808kB 2.8MB/s eta 0:00:01\r\u001b[K     |█████████▎                      | 819kB 2.8MB/s eta 0:00:01\r\u001b[K     |█████████▍                      | 829kB 2.8MB/s eta 0:00:01\r\u001b[K     |█████████▌                      | 839kB 2.8MB/s eta 0:00:01\r\u001b[K     |█████████▋                      | 849kB 2.8MB/s eta 0:00:01\r\u001b[K     |█████████▊                      | 860kB 2.8MB/s eta 0:00:01\r\u001b[K     |█████████▉                      | 870kB 2.8MB/s eta 0:00:01\r\u001b[K     |██████████                      | 880kB 2.8MB/s eta 0:00:01\r\u001b[K     |██████████                      | 890kB 2.8MB/s eta 0:00:01\r\u001b[K     |██████████▏                     | 901kB 2.8MB/s eta 0:00:01\r\u001b[K     |██████████▎                     | 911kB 2.8MB/s eta 0:00:01\r\u001b[K     |██████████▍                     | 921kB 2.8MB/s eta 0:00:01\r\u001b[K     |██████████▌                     | 931kB 2.8MB/s eta 0:00:01\r\u001b[K     |██████████▋                     | 942kB 2.8MB/s eta 0:00:01\r\u001b[K     |██████████▊                     | 952kB 2.8MB/s eta 0:00:01\r\u001b[K     |██████████▉                     | 962kB 2.8MB/s eta 0:00:01\r\u001b[K     |███████████                     | 972kB 2.8MB/s eta 0:00:01\r\u001b[K     |███████████                     | 983kB 2.8MB/s eta 0:00:01\r\u001b[K     |███████████▏                    | 993kB 2.8MB/s eta 0:00:01\r\u001b[K     |███████████▎                    | 1.0MB 2.8MB/s eta 0:00:01\r\u001b[K     |███████████▍                    | 1.0MB 2.8MB/s eta 0:00:01\r\u001b[K     |███████████▌                    | 1.0MB 2.8MB/s eta 0:00:01\r\u001b[K     |███████████▋                    | 1.0MB 2.8MB/s eta 0:00:01\r\u001b[K     |███████████▊                    | 1.0MB 2.8MB/s eta 0:00:01\r\u001b[K     |███████████▉                    | 1.1MB 2.8MB/s eta 0:00:01\r\u001b[K     |████████████                    | 1.1MB 2.8MB/s eta 0:00:01\r\u001b[K     |████████████▏                   | 1.1MB 2.8MB/s eta 0:00:01\r\u001b[K     |████████████▎                   | 1.1MB 2.8MB/s eta 0:00:01\r\u001b[K     |████████████▍                   | 1.1MB 2.8MB/s eta 0:00:01\r\u001b[K     |████████████▌                   | 1.1MB 2.8MB/s eta 0:00:01\r\u001b[K     |████████████▋                   | 1.1MB 2.8MB/s eta 0:00:01\r\u001b[K     |████████████▊                   | 1.1MB 2.8MB/s eta 0:00:01\r\u001b[K     |████████████▉                   | 1.1MB 2.8MB/s eta 0:00:01\r\u001b[K     |█████████████                   | 1.1MB 2.8MB/s eta 0:00:01\r\u001b[K     |█████████████                   | 1.2MB 2.8MB/s eta 0:00:01\r\u001b[K     |█████████████▏                  | 1.2MB 2.8MB/s eta 0:00:01\r\u001b[K     |█████████████▎                  | 1.2MB 2.8MB/s eta 0:00:01\r\u001b[K     |█████████████▍                  | 1.2MB 2.8MB/s eta 0:00:01\r\u001b[K     |█████████████▌                  | 1.2MB 2.8MB/s eta 0:00:01\r\u001b[K     |█████████████▋                  | 1.2MB 2.8MB/s eta 0:00:01\r\u001b[K     |█████████████▊                  | 1.2MB 2.8MB/s eta 0:00:01\r\u001b[K     |█████████████▉                  | 1.2MB 2.8MB/s eta 0:00:01\r\u001b[K     |██████████████                  | 1.2MB 2.8MB/s eta 0:00:01\r\u001b[K     |██████████████                  | 1.2MB 2.8MB/s eta 0:00:01\r\u001b[K     |██████████████▏                 | 1.3MB 2.8MB/s eta 0:00:01\r\u001b[K     |██████████████▎                 | 1.3MB 2.8MB/s eta 0:00:01\r\u001b[K     |██████████████▍                 | 1.3MB 2.8MB/s eta 0:00:01\r\u001b[K     |██████████████▌                 | 1.3MB 2.8MB/s eta 0:00:01\r\u001b[K     |██████████████▋                 | 1.3MB 2.8MB/s eta 0:00:01\r\u001b[K     |██████████████▊                 | 1.3MB 2.8MB/s eta 0:00:01\r\u001b[K     |██████████████▉                 | 1.3MB 2.8MB/s eta 0:00:01\r\u001b[K     |███████████████                 | 1.3MB 2.8MB/s eta 0:00:01\r\u001b[K     |███████████████▏                | 1.3MB 2.8MB/s eta 0:00:01\r\u001b[K     |███████████████▎                | 1.4MB 2.8MB/s eta 0:00:01\r\u001b[K     |███████████████▍                | 1.4MB 2.8MB/s eta 0:00:01\r\u001b[K     |███████████████▌                | 1.4MB 2.8MB/s eta 0:00:01\r\u001b[K     |███████████████▋                | 1.4MB 2.8MB/s eta 0:00:01\r\u001b[K     |███████████████▊                | 1.4MB 2.8MB/s eta 0:00:01\r\u001b[K     |███████████████▉                | 1.4MB 2.8MB/s eta 0:00:01\r\u001b[K     |████████████████                | 1.4MB 2.8MB/s eta 0:00:01\r\u001b[K     |████████████████                | 1.4MB 2.8MB/s eta 0:00:01\r\u001b[K     |████████████████▏               | 1.4MB 2.8MB/s eta 0:00:01\r\u001b[K     |████████████████▎               | 1.4MB 2.8MB/s eta 0:00:01\r\u001b[K     |████████████████▍               | 1.5MB 2.8MB/s eta 0:00:01\r\u001b[K     |████████████████▌               | 1.5MB 2.8MB/s eta 0:00:01\r\u001b[K     |████████████████▋               | 1.5MB 2.8MB/s eta 0:00:01\r\u001b[K     |████████████████▊               | 1.5MB 2.8MB/s eta 0:00:01\r\u001b[K     |████████████████▉               | 1.5MB 2.8MB/s eta 0:00:01\r\u001b[K     |█████████████████               | 1.5MB 2.8MB/s eta 0:00:01\r\u001b[K     |█████████████████               | 1.5MB 2.8MB/s eta 0:00:01\r\u001b[K     |█████████████████▏              | 1.5MB 2.8MB/s eta 0:00:01\r\u001b[K     |█████████████████▎              | 1.5MB 2.8MB/s eta 0:00:01\r\u001b[K     |█████████████████▍              | 1.5MB 2.8MB/s eta 0:00:01\r\u001b[K     |█████████████████▌              | 1.6MB 2.8MB/s eta 0:00:01\r\u001b[K     |█████████████████▋              | 1.6MB 2.8MB/s eta 0:00:01\r\u001b[K     |█████████████████▊              | 1.6MB 2.8MB/s eta 0:00:01\r\u001b[K     |█████████████████▉              | 1.6MB 2.8MB/s eta 0:00:01\r\u001b[K     |██████████████████              | 1.6MB 2.8MB/s eta 0:00:01\r\u001b[K     |██████████████████              | 1.6MB 2.8MB/s eta 0:00:01\r\u001b[K     |██████████████████▎             | 1.6MB 2.8MB/s eta 0:00:01\r\u001b[K     |██████████████████▍             | 1.6MB 2.8MB/s eta 0:00:01\r\u001b[K     |██████████████████▌             | 1.6MB 2.8MB/s eta 0:00:01\r\u001b[K     |██████████████████▋             | 1.6MB 2.8MB/s eta 0:00:01\r\u001b[K     |██████████████████▊             | 1.7MB 2.8MB/s eta 0:00:01\r\u001b[K     |██████████████████▉             | 1.7MB 2.8MB/s eta 0:00:01\r\u001b[K     |███████████████████             | 1.7MB 2.8MB/s eta 0:00:01\r\u001b[K     |███████████████████             | 1.7MB 2.8MB/s eta 0:00:01\r\u001b[K     |███████████████████▏            | 1.7MB 2.8MB/s eta 0:00:01\r\u001b[K     |███████████████████▎            | 1.7MB 2.8MB/s eta 0:00:01\r\u001b[K     |███████████████████▍            | 1.7MB 2.8MB/s eta 0:00:01\r\u001b[K     |███████████████████▌            | 1.7MB 2.8MB/s eta 0:00:01\r\u001b[K     |███████████████████▋            | 1.7MB 2.8MB/s eta 0:00:01\r\u001b[K     |███████████████████▊            | 1.8MB 2.8MB/s eta 0:00:01\r\u001b[K     |███████████████████▉            | 1.8MB 2.8MB/s eta 0:00:01\r\u001b[K     |████████████████████            | 1.8MB 2.8MB/s eta 0:00:01\r\u001b[K     |████████████████████            | 1.8MB 2.8MB/s eta 0:00:01\r\u001b[K     |████████████████████▏           | 1.8MB 2.8MB/s eta 0:00:01\r\u001b[K     |████████████████████▎           | 1.8MB 2.8MB/s eta 0:00:01\r\u001b[K     |████████████████████▍           | 1.8MB 2.8MB/s eta 0:00:01\r\u001b[K     |████████████████████▌           | 1.8MB 2.8MB/s eta 0:00:01\r\u001b[K     |████████████████████▋           | 1.8MB 2.8MB/s eta 0:00:01\r\u001b[K     |████████████████████▊           | 1.8MB 2.8MB/s eta 0:00:01\r\u001b[K     |████████████████████▉           | 1.9MB 2.8MB/s eta 0:00:01\r\u001b[K     |█████████████████████           | 1.9MB 2.8MB/s eta 0:00:01\r\u001b[K     |█████████████████████           | 1.9MB 2.8MB/s eta 0:00:01\r\u001b[K     |█████████████████████▎          | 1.9MB 2.8MB/s eta 0:00:01\r\u001b[K     |█████████████████████▍          | 1.9MB 2.8MB/s eta 0:00:01\r\u001b[K     |█████████████████████▌          | 1.9MB 2.8MB/s eta 0:00:01\r\u001b[K     |█████████████████████▋          | 1.9MB 2.8MB/s eta 0:00:01\r\u001b[K     |█████████████████████▊          | 1.9MB 2.8MB/s eta 0:00:01\r\u001b[K     |█████████████████████▉          | 1.9MB 2.8MB/s eta 0:00:01\r\u001b[K     |██████████████████████          | 1.9MB 2.8MB/s eta 0:00:01\r\u001b[K     |██████████████████████          | 2.0MB 2.8MB/s eta 0:00:01\r\u001b[K     |██████████████████████▏         | 2.0MB 2.8MB/s eta 0:00:01\r\u001b[K     |██████████████████████▎         | 2.0MB 2.8MB/s eta 0:00:01\r\u001b[K     |██████████████████████▍         | 2.0MB 2.8MB/s eta 0:00:01\r\u001b[K     |██████████████████████▌         | 2.0MB 2.8MB/s eta 0:00:01\r\u001b[K     |██████████████████████▋         | 2.0MB 2.8MB/s eta 0:00:01\r\u001b[K     |██████████████████████▊         | 2.0MB 2.8MB/s eta 0:00:01\r\u001b[K     |██████████████████████▉         | 2.0MB 58kB/s eta 0:00:14\r\u001b[K     |███████████████████████         | 2.0MB 58kB/s eta 0:00:14\r\u001b[K     |███████████████████████         | 2.0MB 58kB/s eta 0:00:14\r\u001b[K     |███████████████████████▏        | 2.1MB 58kB/s eta 0:00:14\r\u001b[K     |███████████████████████▎        | 2.1MB 58kB/s eta 0:00:14\r\u001b[K     |███████████████████████▍        | 2.1MB 58kB/s eta 0:00:13\r\u001b[K     |███████████████████████▌        | 2.1MB 58kB/s eta 0:00:13\r\u001b[K     |███████████████████████▋        | 2.1MB 58kB/s eta 0:00:13\r\u001b[K     |███████████████████████▊        | 2.1MB 58kB/s eta 0:00:13\r\u001b[K     |███████████████████████▉        | 2.1MB 58kB/s eta 0:00:13\r\u001b[K     |████████████████████████        | 2.1MB 58kB/s eta 0:00:13\r\u001b[K     |████████████████████████        | 2.1MB 58kB/s eta 0:00:12\r\u001b[K     |████████████████████████▎       | 2.2MB 58kB/s eta 0:00:12\r\u001b[K     |████████████████████████▍       | 2.2MB 58kB/s eta 0:00:12\r\u001b[K     |████████████████████████▌       | 2.2MB 58kB/s eta 0:00:12\r\u001b[K     |████████████████████████▋       | 2.2MB 58kB/s eta 0:00:12\r\u001b[K     |████████████████████████▊       | 2.2MB 58kB/s eta 0:00:12\r\u001b[K     |████████████████████████▉       | 2.2MB 58kB/s eta 0:00:11\r\u001b[K     |█████████████████████████       | 2.2MB 58kB/s eta 0:00:11\r\u001b[K     |█████████████████████████       | 2.2MB 58kB/s eta 0:00:11\r\u001b[K     |█████████████████████████▏      | 2.2MB 58kB/s eta 0:00:11\r\u001b[K     |█████████████████████████▎      | 2.2MB 58kB/s eta 0:00:11\r\u001b[K     |█████████████████████████▍      | 2.3MB 58kB/s eta 0:00:10\r\u001b[K     |█████████████████████████▌      | 2.3MB 58kB/s eta 0:00:10\r\u001b[K     |█████████████████████████▋      | 2.3MB 58kB/s eta 0:00:10\r\u001b[K     |█████████████████████████▊      | 2.3MB 58kB/s eta 0:00:10\r\u001b[K     |█████████████████████████▉      | 2.3MB 58kB/s eta 0:00:10\r\u001b[K     |██████████████████████████      | 2.3MB 58kB/s eta 0:00:10\r\u001b[K     |██████████████████████████      | 2.3MB 58kB/s eta 0:00:09\r\u001b[K     |██████████████████████████▏     | 2.3MB 58kB/s eta 0:00:09\r\u001b[K     |██████████████████████████▎     | 2.3MB 58kB/s eta 0:00:09\r\u001b[K     |██████████████████████████▍     | 2.3MB 58kB/s eta 0:00:09\r\u001b[K     |██████████████████████████▌     | 2.4MB 58kB/s eta 0:00:09\r\u001b[K     |██████████████████████████▋     | 2.4MB 58kB/s eta 0:00:09\r\u001b[K     |██████████████████████████▊     | 2.4MB 58kB/s eta 0:00:08\r\u001b[K     |██████████████████████████▉     | 2.4MB 58kB/s eta 0:00:08\r\u001b[K     |███████████████████████████     | 2.4MB 58kB/s eta 0:00:08\r\u001b[K     |███████████████████████████     | 2.4MB 58kB/s eta 0:00:08\r\u001b[K     |███████████████████████████▎    | 2.4MB 58kB/s eta 0:00:08\r\u001b[K     |███████████████████████████▍    | 2.4MB 58kB/s eta 0:00:08\r\u001b[K     |███████████████████████████▌    | 2.4MB 58kB/s eta 0:00:07\r\u001b[K     |███████████████████████████▋    | 2.4MB 58kB/s eta 0:00:07\r\u001b[K     |███████████████████████████▊    | 2.5MB 58kB/s eta 0:00:07\r\u001b[K     |███████████████████████████▉    | 2.5MB 58kB/s eta 0:00:07\r\u001b[K     |████████████████████████████    | 2.5MB 58kB/s eta 0:00:07\r\u001b[K     |████████████████████████████    | 2.5MB 58kB/s eta 0:00:06\r\u001b[K     |████████████████████████████▏   | 2.5MB 58kB/s eta 0:00:06\r\u001b[K     |████████████████████████████▎   | 2.5MB 58kB/s eta 0:00:06\r\u001b[K     |████████████████████████████▍   | 2.5MB 58kB/s eta 0:00:06\r\u001b[K     |████████████████████████████▌   | 2.5MB 58kB/s eta 0:00:06\r\u001b[K     |████████████████████████████▋   | 2.5MB 58kB/s eta 0:00:06\r\u001b[K     |████████████████████████████▊   | 2.5MB 58kB/s eta 0:00:05\r\u001b[K     |████████████████████████████▉   | 2.6MB 58kB/s eta 0:00:05\r\u001b[K     |█████████████████████████████   | 2.6MB 58kB/s eta 0:00:05\r\u001b[K     |█████████████████████████████   | 2.6MB 58kB/s eta 0:00:05\r\u001b[K     |█████████████████████████████▏  | 2.6MB 58kB/s eta 0:00:05\r\u001b[K     |█████████████████████████████▎  | 2.6MB 58kB/s eta 0:00:05\r\u001b[K     |█████████████████████████████▍  | 2.6MB 58kB/s eta 0:00:04\r\u001b[K     |█████████████████████████████▌  | 2.6MB 58kB/s eta 0:00:04\r\u001b[K     |█████████████████████████████▋  | 2.6MB 58kB/s eta 0:00:04\r\u001b[K     |█████████████████████████████▊  | 2.6MB 58kB/s eta 0:00:04\r\u001b[K     |█████████████████████████████▉  | 2.7MB 58kB/s eta 0:00:04\r\u001b[K     |██████████████████████████████  | 2.7MB 58kB/s eta 0:00:04\r\u001b[K     |██████████████████████████████  | 2.7MB 58kB/s eta 0:00:03\r\u001b[K     |██████████████████████████████▎ | 2.7MB 58kB/s eta 0:00:03\r\u001b[K     |██████████████████████████████▍ | 2.7MB 58kB/s eta 0:00:03\r\u001b[K     |██████████████████████████████▌ | 2.7MB 58kB/s eta 0:00:03\r\u001b[K     |██████████████████████████████▋ | 2.7MB 58kB/s eta 0:00:03\r\u001b[K     |██████████████████████████████▊ | 2.7MB 58kB/s eta 0:00:02\r\u001b[K     |██████████████████████████████▉ | 2.7MB 58kB/s eta 0:00:02\r\u001b[K     |███████████████████████████████ | 2.7MB 58kB/s eta 0:00:02\r\u001b[K     |███████████████████████████████ | 2.8MB 58kB/s eta 0:00:02\r\u001b[K     |███████████████████████████████▏| 2.8MB 58kB/s eta 0:00:02\r\u001b[K     |███████████████████████████████▎| 2.8MB 58kB/s eta 0:00:02\r\u001b[K     |███████████████████████████████▍| 2.8MB 58kB/s eta 0:00:01\r\u001b[K     |███████████████████████████████▌| 2.8MB 58kB/s eta 0:00:01\r\u001b[K     |███████████████████████████████▋| 2.8MB 58kB/s eta 0:00:01\r\u001b[K     |███████████████████████████████▊| 2.8MB 58kB/s eta 0:00:01\r\u001b[K     |███████████████████████████████▉| 2.8MB 58kB/s eta 0:00:01\r\u001b[K     |████████████████████████████████| 2.8MB 58kB/s eta 0:00:01\r\u001b[K     |████████████████████████████████| 2.8MB 58kB/s \n",
            "\u001b[?25hCollecting numpy>=1.9.1 (from theano)\n",
            "\u001b[?25l  Downloading https://files.pythonhosted.org/packages/75/92/57179ed45307ec6179e344231c47da7f3f3da9e2eee5c8ab506bd279ce4e/numpy-1.17.1-cp36-cp36m-manylinux1_x86_64.whl (20.4MB)\n",
            "\u001b[K     |████████████████████████████████| 20.4MB 1.7MB/s \n",
            "\u001b[?25hCollecting scipy>=0.14 (from theano)\n",
            "\u001b[?25l  Downloading https://files.pythonhosted.org/packages/29/50/a552a5aff252ae915f522e44642bb49a7b7b31677f9580cfd11bcc869976/scipy-1.3.1-cp36-cp36m-manylinux1_x86_64.whl (25.2MB)\n",
            "\u001b[K     |████████████████████████████████| 25.2MB 1.7MB/s \n",
            "\u001b[?25hCollecting six>=1.9.0 (from theano)\n",
            "  Downloading https://files.pythonhosted.org/packages/73/fb/00a976f728d0d1fecfe898238ce23f502a721c0ac0ecfedb80e0d88c64e9/six-1.12.0-py2.py3-none-any.whl\n",
            "Building wheels for collected packages: theano\n",
            "  Building wheel for theano (setup.py) ... \u001b[?25l\u001b[?25hdone\n",
            "  Created wheel for theano: filename=Theano-1.0.4-cp36-none-any.whl size=2667178 sha256=01470b651d7d272c4f1a7a82e6cd492caf9a19e3838d0933d2ee296a5a26558c\n",
            "  Stored in directory: /root/.cache/pip/wheels/88/fb/be/483910ff7e9f703f30a10605ad7605f3316493875c86637014\n",
            "Successfully built theano\n",
            "Installing collected packages: numpy, scipy, six, theano\n",
            "Successfully installed numpy-1.17.1 scipy-1.3.1 six-1.12.0 theano-1.0.4\n"
          ],
          "name": "stdout"
        }
      ]
    },
    {
      "cell_type": "code",
      "metadata": {
        "id": "0a7lA-T3zgXt",
        "colab_type": "code",
        "outputId": "2f5d6405-8060-45d7-90d4-6d536fa58bcf",
        "colab": {
          "base_uri": "https://localhost:8080/",
          "height": 170
        }
      },
      "source": [
        "!source /content/theanoEnv/bin/activate; pip3 list"
      ],
      "execution_count": 5,
      "outputs": [
        {
          "output_type": "stream",
          "text": [
            "Package    Version\n",
            "---------- -------\n",
            "numpy      1.17.1 \n",
            "pip        19.2.3 \n",
            "scipy      1.3.1  \n",
            "setuptools 41.2.0 \n",
            "six        1.12.0 \n",
            "Theano     1.0.4  \n",
            "wheel      0.33.6 \n"
          ],
          "name": "stdout"
        }
      ]
    },
    {
      "cell_type": "code",
      "metadata": {
        "id": "3eYLiYMr7D2_",
        "colab_type": "code",
        "colab": {}
      },
      "source": [
        "# Explanation https://stackoverflow.com/questions/48512569/is-it-possible-to-activate-virtualenv-in-google-colab-bin-sh-1-source-not"
      ],
      "execution_count": 0,
      "outputs": []
    },
    {
      "cell_type": "code",
      "metadata": {
        "id": "zkxn0qcf7MXJ",
        "colab_type": "code",
        "colab": {}
      },
      "source": [
        ""
      ],
      "execution_count": 0,
      "outputs": []
    }
  ]
}