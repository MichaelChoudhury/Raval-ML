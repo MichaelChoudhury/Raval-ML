{
  "nbformat": 4,
  "nbformat_minor": 0,
  "metadata": {
    "colab": {
      "name": "Siraj ML Wk2 Finance",
      "version": "0.3.2",
      "provenance": [],
      "collapsed_sections": []
    },
    "kernelspec": {
      "name": "python3",
      "display_name": "Python 3"
    }
  },
  "cells": [
    {
      "cell_type": "code",
      "metadata": {
        "id": "5DCTus0L-w4i",
        "colab_type": "code",
        "colab": {}
      },
      "source": [
        "import warnings\n",
        "\n",
        "def fxn():\n",
        "    warnings.warn(\"deprecated\", DeprecationWarning)\n",
        "\n",
        "with warnings.catch_warnings():\n",
        "    warnings.simplefilter(\"ignore\")\n",
        "    fxn()\n",
        "    \n",
        "from sklearn.exceptions import ConvergenceWarning\n",
        "warnings.filterwarnings('ignore', category=ConvergenceWarning)\n",
        "\n",
        "# import warnings filter\n",
        "from warnings import simplefilter\n",
        "# ignore all future warnings\n",
        "simplefilter(action='ignore', category=FutureWarning)"
      ],
      "execution_count": 0,
      "outputs": []
    },
    {
      "cell_type": "code",
      "metadata": {
        "id": "hSycsTyxrYrb",
        "colab_type": "code",
        "outputId": "4d3b8daf-2200-41c9-d24a-0635f1cc12cd",
        "colab": {
          "base_uri": "https://localhost:8080/",
          "height": 235
        }
      },
      "source": [
        "import pandas as pd\n",
        "import datetime\n",
        "import pandas_datareader.data as web\n",
        "from pandas import Series, DataFrame\n",
        "\n",
        "start = datetime.datetime(2012, 9, 1)\n",
        "end = datetime.datetime(2019, 8, 31)\n",
        "\n",
        "ticker = 'JNJ'\n",
        "\n",
        "df = web.DataReader(\"JNJ\", 'yahoo', start, end)\n",
        "df.tail()"
      ],
      "execution_count": 2,
      "outputs": [
        {
          "output_type": "execute_result",
          "data": {
            "text/html": [
              "<div>\n",
              "<style scoped>\n",
              "    .dataframe tbody tr th:only-of-type {\n",
              "        vertical-align: middle;\n",
              "    }\n",
              "\n",
              "    .dataframe tbody tr th {\n",
              "        vertical-align: top;\n",
              "    }\n",
              "\n",
              "    .dataframe thead th {\n",
              "        text-align: right;\n",
              "    }\n",
              "</style>\n",
              "<table border=\"1\" class=\"dataframe\">\n",
              "  <thead>\n",
              "    <tr style=\"text-align: right;\">\n",
              "      <th></th>\n",
              "      <th>High</th>\n",
              "      <th>Low</th>\n",
              "      <th>Open</th>\n",
              "      <th>Close</th>\n",
              "      <th>Volume</th>\n",
              "      <th>Adj Close</th>\n",
              "    </tr>\n",
              "    <tr>\n",
              "      <th>Date</th>\n",
              "      <th></th>\n",
              "      <th></th>\n",
              "      <th></th>\n",
              "      <th></th>\n",
              "      <th></th>\n",
              "      <th></th>\n",
              "    </tr>\n",
              "  </thead>\n",
              "  <tbody>\n",
              "    <tr>\n",
              "      <th>2019-08-26</th>\n",
              "      <td>128.080002</td>\n",
              "      <td>126.629997</td>\n",
              "      <td>127.419998</td>\n",
              "      <td>127.800003</td>\n",
              "      <td>8889500.0</td>\n",
              "      <td>127.800003</td>\n",
              "    </tr>\n",
              "    <tr>\n",
              "      <th>2019-08-27</th>\n",
              "      <td>132.399994</td>\n",
              "      <td>129.100006</td>\n",
              "      <td>129.880005</td>\n",
              "      <td>129.639999</td>\n",
              "      <td>20183800.0</td>\n",
              "      <td>129.639999</td>\n",
              "    </tr>\n",
              "    <tr>\n",
              "      <th>2019-08-28</th>\n",
              "      <td>128.869995</td>\n",
              "      <td>127.010002</td>\n",
              "      <td>127.860001</td>\n",
              "      <td>128.679993</td>\n",
              "      <td>9878800.0</td>\n",
              "      <td>128.679993</td>\n",
              "    </tr>\n",
              "    <tr>\n",
              "      <th>2019-08-29</th>\n",
              "      <td>129.199997</td>\n",
              "      <td>126.830002</td>\n",
              "      <td>128.839996</td>\n",
              "      <td>128.240005</td>\n",
              "      <td>6749900.0</td>\n",
              "      <td>128.240005</td>\n",
              "    </tr>\n",
              "    <tr>\n",
              "      <th>2019-08-30</th>\n",
              "      <td>129.100006</td>\n",
              "      <td>127.620003</td>\n",
              "      <td>128.270004</td>\n",
              "      <td>128.360001</td>\n",
              "      <td>7371100.0</td>\n",
              "      <td>128.360001</td>\n",
              "    </tr>\n",
              "  </tbody>\n",
              "</table>\n",
              "</div>"
            ],
            "text/plain": [
              "                  High         Low  ...      Volume   Adj Close\n",
              "Date                                ...                        \n",
              "2019-08-26  128.080002  126.629997  ...   8889500.0  127.800003\n",
              "2019-08-27  132.399994  129.100006  ...  20183800.0  129.639999\n",
              "2019-08-28  128.869995  127.010002  ...   9878800.0  128.679993\n",
              "2019-08-29  129.199997  126.830002  ...   6749900.0  128.240005\n",
              "2019-08-30  129.100006  127.620003  ...   7371100.0  128.360001\n",
              "\n",
              "[5 rows x 6 columns]"
            ]
          },
          "metadata": {
            "tags": []
          },
          "execution_count": 2
        }
      ]
    },
    {
      "cell_type": "code",
      "metadata": {
        "id": "lXyBOqhfrbim",
        "colab_type": "code",
        "outputId": "79be970d-cf01-43d4-a883-4ba30d0f7975",
        "colab": {
          "base_uri": "https://localhost:8080/",
          "height": 34
        }
      },
      "source": [
        "df.shape"
      ],
      "execution_count": 3,
      "outputs": [
        {
          "output_type": "execute_result",
          "data": {
            "text/plain": [
              "(1759, 6)"
            ]
          },
          "metadata": {
            "tags": []
          },
          "execution_count": 3
        }
      ]
    },
    {
      "cell_type": "code",
      "metadata": {
        "id": "nZX8oZGGsNQf",
        "colab_type": "code",
        "outputId": "9737e299-32e9-49ec-f56e-d8bde560f20a",
        "colab": {
          "base_uri": "https://localhost:8080/",
          "height": 173
        }
      },
      "source": [
        "df = df[['Open','High','Low','Close','Volume']]\n",
        "df['HL_PCT']= (df['High'] - df['Close']) / df['Close'] *100\n",
        "df['PCT_change']= (df['High']-df['Open']) / df['Open'] *100\n",
        "df=df[['Close','HL_PCT','PCT_change','Volume']]\n",
        "df.head(3)"
      ],
      "execution_count": 4,
      "outputs": [
        {
          "output_type": "execute_result",
          "data": {
            "text/html": [
              "<div>\n",
              "<style scoped>\n",
              "    .dataframe tbody tr th:only-of-type {\n",
              "        vertical-align: middle;\n",
              "    }\n",
              "\n",
              "    .dataframe tbody tr th {\n",
              "        vertical-align: top;\n",
              "    }\n",
              "\n",
              "    .dataframe thead th {\n",
              "        text-align: right;\n",
              "    }\n",
              "</style>\n",
              "<table border=\"1\" class=\"dataframe\">\n",
              "  <thead>\n",
              "    <tr style=\"text-align: right;\">\n",
              "      <th></th>\n",
              "      <th>Close</th>\n",
              "      <th>HL_PCT</th>\n",
              "      <th>PCT_change</th>\n",
              "      <th>Volume</th>\n",
              "    </tr>\n",
              "    <tr>\n",
              "      <th>Date</th>\n",
              "      <th></th>\n",
              "      <th></th>\n",
              "      <th></th>\n",
              "      <th></th>\n",
              "    </tr>\n",
              "  </thead>\n",
              "  <tbody>\n",
              "    <tr>\n",
              "      <th>2012-09-04</th>\n",
              "      <td>67.260002</td>\n",
              "      <td>0.416293</td>\n",
              "      <td>0.074090</td>\n",
              "      <td>8402700.0</td>\n",
              "    </tr>\n",
              "    <tr>\n",
              "      <th>2012-09-05</th>\n",
              "      <td>67.269997</td>\n",
              "      <td>0.891937</td>\n",
              "      <td>0.637604</td>\n",
              "      <td>9266000.0</td>\n",
              "    </tr>\n",
              "    <tr>\n",
              "      <th>2012-09-06</th>\n",
              "      <td>67.839996</td>\n",
              "      <td>0.560149</td>\n",
              "      <td>0.753215</td>\n",
              "      <td>13075500.0</td>\n",
              "    </tr>\n",
              "  </tbody>\n",
              "</table>\n",
              "</div>"
            ],
            "text/plain": [
              "                Close    HL_PCT  PCT_change      Volume\n",
              "Date                                                   \n",
              "2012-09-04  67.260002  0.416293    0.074090   8402700.0\n",
              "2012-09-05  67.269997  0.891937    0.637604   9266000.0\n",
              "2012-09-06  67.839996  0.560149    0.753215  13075500.0"
            ]
          },
          "metadata": {
            "tags": []
          },
          "execution_count": 4
        }
      ]
    },
    {
      "cell_type": "code",
      "metadata": {
        "id": "PhLv2wP6sg1j",
        "colab_type": "code",
        "colab": {}
      },
      "source": [
        "import math\n",
        "\n",
        "forecast_col = 'Close'\n",
        "#no na in data but good practice\n",
        "df.fillna(-99999, inplace=True)\n",
        "\n",
        "n=7 #days\n",
        "#n=0.01*len(df) #shift is 1% of length of df\n",
        "forecast_out = int(math.ceil(n)) #make n integer\n",
        "\n",
        "df['label'] = df[forecast_col].shift(-forecast_out)"
      ],
      "execution_count": 0,
      "outputs": []
    },
    {
      "cell_type": "code",
      "metadata": {
        "id": "v4vVU24DzsmF",
        "colab_type": "code",
        "colab": {}
      },
      "source": [
        "import numpy as np\n",
        "from sklearn import preprocessing\n",
        "from sklearn.model_selection import train_test_split\n",
        "\n",
        "X = np.array(df.drop(['label'],1))\n",
        "X = preprocessing.scale(X)\n",
        "X_lately= X[-forecast_out:] #shift the most recent data (e.g. 95-100)\n",
        "X = X[:-forecast_out] #shift data until beginning of X_lately (e.g. 0-94)\n",
        "#print(X, len(X))\n",
        "\n",
        "df.dropna(inplace=True)\n",
        "y = np.array(df['label'])\n",
        "#print(len(X)==len(y))\n",
        "\n",
        "#X_train, X_test, y_train, y_test = cross_validation.train_test_split(X, y, test_size=0.2)\n",
        "X_train, X_test, y_train, y_test = train_test_split(X, y, test_size=0.2)"
      ],
      "execution_count": 0,
      "outputs": []
    },
    {
      "cell_type": "code",
      "metadata": {
        "id": "3ociBwHK6GGX",
        "colab_type": "code",
        "outputId": "eee14aa4-02c1-4fab-c294-dd522cc03604",
        "colab": {
          "base_uri": "https://localhost:8080/",
          "height": 34
        }
      },
      "source": [
        "from sklearn.linear_model import LinearRegression\n",
        "\n",
        "clf = LinearRegression(n_jobs=-1) #-1 = efficient/adaptive threading enabled\n",
        "clf.fit(X_train, y_train)"
      ],
      "execution_count": 8,
      "outputs": [
        {
          "output_type": "execute_result",
          "data": {
            "text/plain": [
              "LinearRegression(copy_X=True, fit_intercept=True, n_jobs=-1, normalize=False)"
            ]
          },
          "metadata": {
            "tags": []
          },
          "execution_count": 8
        }
      ]
    },
    {
      "cell_type": "code",
      "metadata": {
        "id": "aM_Xl_286PHV",
        "colab_type": "code",
        "outputId": "463cf88c-ad5a-4453-dd2d-166daa6b61cc",
        "colab": {
          "base_uri": "https://localhost:8080/",
          "height": 34
        }
      },
      "source": [
        "accuracy = clf.score(X_test, y_test)\n",
        "print('accuracy is %f' %accuracy)"
      ],
      "execution_count": 9,
      "outputs": [
        {
          "output_type": "stream",
          "text": [
            "accuracy is 0.982140\n"
          ],
          "name": "stdout"
        }
      ]
    },
    {
      "cell_type": "code",
      "metadata": {
        "id": "l_CKObz36Ttl",
        "colab_type": "code",
        "outputId": "cba0d837-6488-48fd-bc4a-24a90da5d2a5",
        "colab": {
          "base_uri": "https://localhost:8080/",
          "height": 34
        }
      },
      "source": [
        "accuracy = clf.score(X_test[-10:],y_test[-10:])\n",
        "print('accuracy is %f' %accuracy)"
      ],
      "execution_count": 10,
      "outputs": [
        {
          "output_type": "stream",
          "text": [
            "accuracy is 0.968521\n"
          ],
          "name": "stdout"
        }
      ]
    },
    {
      "cell_type": "code",
      "metadata": {
        "id": "rlwOeiRY6a10",
        "colab_type": "code",
        "outputId": "d5907d89-3c0c-4b3f-812a-cc5e8158627b",
        "colab": {
          "base_uri": "https://localhost:8080/",
          "height": 51
        }
      },
      "source": [
        "forecast_set= clf.predict(X_lately)\n",
        "forecast_set"
      ],
      "execution_count": 11,
      "outputs": [
        {
          "output_type": "execute_result",
          "data": {
            "text/plain": [
              "array([131.12028984, 127.35320264, 127.55779113, 128.85256503,\n",
              "       128.34435419, 128.20039441, 128.25688133])"
            ]
          },
          "metadata": {
            "tags": []
          },
          "execution_count": 11
        }
      ]
    },
    {
      "cell_type": "code",
      "metadata": {
        "id": "O0N82fa66evU",
        "colab_type": "code",
        "outputId": "f357fd02-bb5a-41a2-bca7-0e928e8f3cab",
        "colab": {
          "base_uri": "https://localhost:8080/",
          "height": 136
        }
      },
      "source": [
        "from sklearn.ensemble import RandomForestRegressor\n",
        "clf = RandomForestRegressor()\n",
        "clf.fit(X_train, y_train)"
      ],
      "execution_count": 12,
      "outputs": [
        {
          "output_type": "execute_result",
          "data": {
            "text/plain": [
              "RandomForestRegressor(bootstrap=True, criterion='mse', max_depth=None,\n",
              "                      max_features='auto', max_leaf_nodes=None,\n",
              "                      min_impurity_decrease=0.0, min_impurity_split=None,\n",
              "                      min_samples_leaf=1, min_samples_split=2,\n",
              "                      min_weight_fraction_leaf=0.0, n_estimators=10,\n",
              "                      n_jobs=None, oob_score=False, random_state=None,\n",
              "                      verbose=0, warm_start=False)"
            ]
          },
          "metadata": {
            "tags": []
          },
          "execution_count": 12
        }
      ]
    },
    {
      "cell_type": "code",
      "metadata": {
        "id": "mCBhHtJZ6i29",
        "colab_type": "code",
        "outputId": "ad2a6a47-6f2b-480b-bea2-e8dde80bbabc",
        "colab": {
          "base_uri": "https://localhost:8080/",
          "height": 119
        }
      },
      "source": [
        "import numpy as np\n",
        "import math\n",
        "import pandas as pd\n",
        "\n",
        "#from sklearn import preprocessing, cross_validation\n",
        "from sklearn.model_selection import cross_validate\n",
        "from sklearn.svm import SVR\n",
        "from sklearn.neural_network import MLPRegressor as NNR\n",
        "from sklearn.linear_model import LinearRegression as LRR\n",
        "from sklearn.ensemble import RandomForestRegressor as RFR\n",
        "from sklearn.tree import DecisionTreeRegressor as DTR\n",
        "from sklearn.gaussian_process import GaussianProcessRegressor as GPR\n",
        "\n",
        "regs = [SVR(), NNR(), LRR(), RFR(), DTR(), GPR()]\n",
        "accuracy = []\n",
        "forecast = []\n",
        "for reg in regs:\n",
        "    reg.fit(X_train, y_train);\n",
        "    accu = reg.score(X_test,y_test);\n",
        "    accuracy.append(accu)\n",
        "    #print reg\n",
        "    print('{0}: accuracy = {1:.3f}'.format(str(reg)[:3], accu))\n",
        "    forecast.append(reg.predict(X_lately))\n",
        "    #print(forecast_set, accuracy, forecast_out)"
      ],
      "execution_count": 13,
      "outputs": [
        {
          "output_type": "stream",
          "text": [
            "SVR: accuracy = 0.940\n",
            "MLP: accuracy = 0.615\n",
            "Lin: accuracy = 0.982\n",
            "Ran: accuracy = 0.977\n",
            "Dec: accuracy = 0.960\n",
            "Gau: accuracy = -3982.790\n"
          ],
          "name": "stdout"
        }
      ]
    },
    {
      "cell_type": "code",
      "metadata": {
        "id": "aNSbr_-56nSr",
        "colab_type": "code",
        "outputId": "a2f54269-2b32-487b-872b-9c46f25dbf27",
        "colab": {
          "base_uri": "https://localhost:8080/",
          "height": 34
        }
      },
      "source": [
        "np.array(forecast).shape\n"
      ],
      "execution_count": 14,
      "outputs": [
        {
          "output_type": "execute_result",
          "data": {
            "text/plain": [
              "(6, 7)"
            ]
          },
          "metadata": {
            "tags": []
          },
          "execution_count": 14
        }
      ]
    },
    {
      "cell_type": "code",
      "metadata": {
        "id": "so9PMpbuHixb",
        "colab_type": "code",
        "outputId": "a9a9ab22-1205-45fd-c8cd-7a386013f812",
        "colab": {
          "base_uri": "https://localhost:8080/",
          "height": 335
        }
      },
      "source": [
        "from pandas.plotting import register_matplotlib_converters\n",
        "register_matplotlib_converters()\n",
        "\n",
        "import matplotlib.pyplot as plt\n",
        "from matplotlib import style\n",
        "%matplotlib inline\n",
        "import datetime as dt\n",
        "\n",
        "last_date=df.index[-1]\n",
        "#print last_date\n",
        "next_date= last_date + dt.timedelta(days=1)\n",
        "#print next_date\n",
        "\n",
        "dates=[]\n",
        "for i in range(n): #add 7 days\n",
        "    next_date= last_date + dt.timedelta(days=i)\n",
        "    dates.append(next_date)\n",
        "\n",
        "colors=['r','b','g','m', 'y']\n",
        "for j in range(len(forecast)-1): #not inluding result of GPR\n",
        "    plt.plot(dates, forecast[j], '-', color=colors[j], label='{0}: {1:.2f}'.format(str(regs[j])[:3], accuracy[j]));\n",
        "plt.xticks(rotation=45)\n",
        "plt.legend(loc='best') #bottom right\n",
        "plt.xlabel('Date')\n",
        "plt.ylabel('Price (US$)')\n",
        "plt.title('$n$=7 days prediction of {} using various regressors'.format(ticker))\n",
        "plt.show()"
      ],
      "execution_count": 15,
      "outputs": [
        {
          "output_type": "display_data",
          "data": {
            "image/png": "[encoded data removed]",
            "text/plain": [
              "<Figure size 432x288 with 1 Axes>"
            ]
          },
          "metadata": {
            "tags": []
          }
        }
      ]
    },
    {
      "cell_type": "code",
      "metadata": {
        "id": "g2Ei2bowHp62",
        "colab_type": "code",
        "colab": {}
      },
      "source": [
        "df['Forecast'] = np.nan #create a new column for prediction and fill up with nan\n",
        "\n",
        "import datetime as dt\n",
        "\n",
        "last_date=df.index[-1]\n",
        "#print last_date\n",
        "next_date= last_date + dt.timedelta(days=1)\n",
        "#print next_date\n",
        "\n",
        "for i,j in zip(forecast_set,range(int(n))):\n",
        "    next_date= last_date + dt.timedelta(days=j)\n",
        "    df.loc[next_date] = [np.nan for _ in range(len(df.columns)-1)] + [i] #df.loc is the index location"
      ],
      "execution_count": 0,
      "outputs": []
    },
    {
      "cell_type": "code",
      "metadata": {
        "id": "ZJrkYZGPHvZv",
        "colab_type": "code",
        "outputId": "39108a1a-5446-4225-84f4-1da28bc18ef6",
        "colab": {
          "base_uri": "https://localhost:8080/",
          "height": 328
        }
      },
      "source": [
        "df.tail(n+1)"
      ],
      "execution_count": 17,
      "outputs": [
        {
          "output_type": "execute_result",
          "data": {
            "text/html": [
              "<div>\n",
              "<style scoped>\n",
              "    .dataframe tbody tr th:only-of-type {\n",
              "        vertical-align: middle;\n",
              "    }\n",
              "\n",
              "    .dataframe tbody tr th {\n",
              "        vertical-align: top;\n",
              "    }\n",
              "\n",
              "    .dataframe thead th {\n",
              "        text-align: right;\n",
              "    }\n",
              "</style>\n",
              "<table border=\"1\" class=\"dataframe\">\n",
              "  <thead>\n",
              "    <tr style=\"text-align: right;\">\n",
              "      <th></th>\n",
              "      <th>Close</th>\n",
              "      <th>HL_PCT</th>\n",
              "      <th>PCT_change</th>\n",
              "      <th>Volume</th>\n",
              "      <th>label</th>\n",
              "      <th>Forecast</th>\n",
              "    </tr>\n",
              "    <tr>\n",
              "      <th>Date</th>\n",
              "      <th></th>\n",
              "      <th></th>\n",
              "      <th></th>\n",
              "      <th></th>\n",
              "      <th></th>\n",
              "      <th></th>\n",
              "    </tr>\n",
              "  </thead>\n",
              "  <tbody>\n",
              "    <tr>\n",
              "      <th>2019-08-20</th>\n",
              "      <td>130.600006</td>\n",
              "      <td>1.577333</td>\n",
              "      <td>0.530461</td>\n",
              "      <td>7302000.0</td>\n",
              "      <td>128.240005</td>\n",
              "      <td>NaN</td>\n",
              "    </tr>\n",
              "    <tr>\n",
              "      <th>2019-08-21</th>\n",
              "      <td>NaN</td>\n",
              "      <td>NaN</td>\n",
              "      <td>NaN</td>\n",
              "      <td>NaN</td>\n",
              "      <td>NaN</td>\n",
              "      <td>131.120290</td>\n",
              "    </tr>\n",
              "    <tr>\n",
              "      <th>2019-08-22</th>\n",
              "      <td>NaN</td>\n",
              "      <td>NaN</td>\n",
              "      <td>NaN</td>\n",
              "      <td>NaN</td>\n",
              "      <td>NaN</td>\n",
              "      <td>127.353203</td>\n",
              "    </tr>\n",
              "    <tr>\n",
              "      <th>2019-08-23</th>\n",
              "      <td>NaN</td>\n",
              "      <td>NaN</td>\n",
              "      <td>NaN</td>\n",
              "      <td>NaN</td>\n",
              "      <td>NaN</td>\n",
              "      <td>127.557791</td>\n",
              "    </tr>\n",
              "    <tr>\n",
              "      <th>2019-08-24</th>\n",
              "      <td>NaN</td>\n",
              "      <td>NaN</td>\n",
              "      <td>NaN</td>\n",
              "      <td>NaN</td>\n",
              "      <td>NaN</td>\n",
              "      <td>128.852565</td>\n",
              "    </tr>\n",
              "    <tr>\n",
              "      <th>2019-08-25</th>\n",
              "      <td>NaN</td>\n",
              "      <td>NaN</td>\n",
              "      <td>NaN</td>\n",
              "      <td>NaN</td>\n",
              "      <td>NaN</td>\n",
              "      <td>128.344354</td>\n",
              "    </tr>\n",
              "    <tr>\n",
              "      <th>2019-08-26</th>\n",
              "      <td>NaN</td>\n",
              "      <td>NaN</td>\n",
              "      <td>NaN</td>\n",
              "      <td>NaN</td>\n",
              "      <td>NaN</td>\n",
              "      <td>128.200394</td>\n",
              "    </tr>\n",
              "    <tr>\n",
              "      <th>2019-08-27</th>\n",
              "      <td>NaN</td>\n",
              "      <td>NaN</td>\n",
              "      <td>NaN</td>\n",
              "      <td>NaN</td>\n",
              "      <td>NaN</td>\n",
              "      <td>128.256881</td>\n",
              "    </tr>\n",
              "  </tbody>\n",
              "</table>\n",
              "</div>"
            ],
            "text/plain": [
              "                 Close    HL_PCT  PCT_change     Volume       label    Forecast\n",
              "Date                                                                           \n",
              "2019-08-20  130.600006  1.577333    0.530461  7302000.0  128.240005         NaN\n",
              "2019-08-21         NaN       NaN         NaN        NaN         NaN  131.120290\n",
              "2019-08-22         NaN       NaN         NaN        NaN         NaN  127.353203\n",
              "2019-08-23         NaN       NaN         NaN        NaN         NaN  127.557791\n",
              "2019-08-24         NaN       NaN         NaN        NaN         NaN  128.852565\n",
              "2019-08-25         NaN       NaN         NaN        NaN         NaN  128.344354\n",
              "2019-08-26         NaN       NaN         NaN        NaN         NaN  128.200394\n",
              "2019-08-27         NaN       NaN         NaN        NaN         NaN  128.256881"
            ]
          },
          "metadata": {
            "tags": []
          },
          "execution_count": 17
        }
      ]
    },
    {
      "cell_type": "code",
      "metadata": {
        "id": "vISeaTnmSJFq",
        "colab_type": "code",
        "outputId": "0347401f-69a0-40ea-d644-6a6f98f047b6",
        "colab": {
          "base_uri": "https://localhost:8080/",
          "height": 276
        }
      },
      "source": [
        "import matplotlib.pyplot as plt\n",
        "from matplotlib import style\n",
        "%matplotlib inline\n",
        "style.use('ggplot')\n",
        "\n",
        "plt.figure(1)\n",
        "df['Close'].plot()\n",
        "df['Forecast'].plot()\n",
        "plt.legend(loc='best') #bottom right\n",
        "plt.xlabel('Date')\n",
        "plt.ylabel('Price (US$)')\n",
        "plt.show()"
      ],
      "execution_count": 18,
      "outputs": [
        {
          "output_type": "display_data",
          "data": {
            "image/png": "[encoded data removed]",
            "text/plain": [
              "<Figure size 432x288 with 1 Axes>"
            ]
          },
          "metadata": {
            "tags": []
          }
        }
      ]
    },
    {
      "cell_type": "code",
      "metadata": {
        "id": "Q1RtpfCRSNuG",
        "colab_type": "code",
        "outputId": "ad13d97c-aa66-4802-cfce-212c923b635f",
        "colab": {
          "base_uri": "https://localhost:8080/",
          "height": 322
        }
      },
      "source": [
        "#Zoom in to prediction\n",
        "df['Close'].plot()\n",
        "df['Forecast'].plot()\n",
        "ymax=max(df['Forecast'].values)\n",
        "ymin=min(df['Forecast'].values)\n",
        "plt.axis([df.index[-int(n+3)],df.index[-1], 100, 150]) #xmin,xmax,ymin,ymax\n",
        "plt.legend(loc='best') #bottom right\n",
        "plt.xlabel('Date')\n",
        "plt.ylabel('Price')\n",
        "plt.title(ticker)\n",
        "#df.Forecast.tail()"
      ],
      "execution_count": 19,
      "outputs": [
        {
          "output_type": "execute_result",
          "data": {
            "text/plain": [
              "Text(0.5, 1.0, 'JNJ')"
            ]
          },
          "metadata": {
            "tags": []
          },
          "execution_count": 19
        },
        {
          "output_type": "display_data",
          "data": {
            "image/png": "[encoded data removed]",
            "text/plain": [
              "<Figure size 432x288 with 1 Axes>"
            ]
          },
          "metadata": {
            "tags": []
          }
        }
      ]
    },
    {
      "cell_type": "code",
      "metadata": {
        "id": "FEz3sT2mSfL7",
        "colab_type": "code",
        "colab": {}
      },
      "source": [
        "###save into pickle file\n",
        "import pickle \n",
        "with open('linreg.pickle', 'wb') as f:\n",
        "    pickle.dump(clf,f)\n",
        "    \n",
        "###load pickle file which requires no more training\n",
        "pickle_in = open('linreg.pickle', 'rb')\n",
        "clf=pickle.load(pickle_in)"
      ],
      "execution_count": 0,
      "outputs": []
    },
    {
      "cell_type": "code",
      "metadata": {
        "id": "VGXPUdArXxL5",
        "colab_type": "code",
        "colab": {}
      },
      "source": [
        "import datetime\n",
        "\n",
        "df['Forecast'] = np.nan #create a new column for prediction and fill up with nan\n",
        "\n",
        "last_date=df.iloc[-1].name\n",
        "last_unix=last_date.timestamp()\n",
        "one_day= 86400 #seconds\n",
        "next_unix= last_unix + one_day #next day\n",
        "#print(df.tail())\n",
        "\n",
        "###PARSE x-axis into date format\n",
        "for i in forecast_set:\n",
        "    next_date = datetime.datetime.fromtimestamp(next_unix)\n",
        "    next_unix += one_day\n",
        "    df.loc[next_date] = [np.nan for _ in range(len(df.columns)-1)] + [i] #df.loc is the index location    \n",
        "#print(df.tail())\n",
        "\n",
        "import matplotlib.pyplot as plt\n",
        "from matplotlib import style\n",
        "%matplotlib inline\n",
        "style.use('ggplot')\n",
        "\n"
      ],
      "execution_count": 0,
      "outputs": []
    },
    {
      "cell_type": "code",
      "metadata": {
        "id": "uch3ip6-Zs7O",
        "colab_type": "code",
        "outputId": "48e5a172-c8c1-4f4d-e4b7-aec21940b3bd",
        "colab": {
          "base_uri": "https://localhost:8080/",
          "height": 276
        }
      },
      "source": [
        "plt.figure(1)\n",
        "df['Close'].plot()\n",
        "df['Forecast'].plot()\n",
        "plt.legend(loc=4) #bottom right\n",
        "plt.xlabel('Date')\n",
        "plt.ylabel('Price')\n",
        "plt.show()\n"
      ],
      "execution_count": 22,
      "outputs": [
        {
          "output_type": "display_data",
          "data": {
            "image/png": "[encoded data removed]",
            "text/plain": [
              "<Figure size 432x288 with 1 Axes>"
            ]
          },
          "metadata": {
            "tags": []
          }
        }
      ]
    },
    {
      "cell_type": "code",
      "metadata": {
        "colab_type": "code",
        "outputId": "c9155f40-a3e4-451e-b731-cd2d1c3df8e3",
        "id": "rX1tAROKfwyp",
        "colab": {
          "base_uri": "https://localhost:8080/",
          "height": 326
        }
      },
      "source": [
        "plt.figure(2)\n",
        "#Zoom in to prediction\n",
        "plt.figure(figsize=(8,4))\n",
        "df['Close'].plot()\n",
        "df['Forecast'].plot()\n",
        "plt.axis([df.index[-50],df.index[-1],100,170]) #xmin,xmax,ymin,ymax\n",
        "plt.legend(loc=4) #bottom right\n",
        "plt.xlabel('Date')\n",
        "plt.ylabel('Price')\n",
        "#df.Forecast.tail()\n"
      ],
      "execution_count": 23,
      "outputs": [
        {
          "output_type": "execute_result",
          "data": {
            "text/plain": [
              "Text(0, 0.5, 'Price')"
            ]
          },
          "metadata": {
            "tags": []
          },
          "execution_count": 23
        },
        {
          "output_type": "display_data",
          "data": {
            "text/plain": [
              "<Figure size 432x288 with 0 Axes>"
            ]
          },
          "metadata": {
            "tags": []
          }
        },
        {
          "output_type": "display_data",
          "data": {
            "image/png": "[encoded data removed]",
            "text/plain": [
              "<Figure size 576x288 with 1 Axes>"
            ]
          },
          "metadata": {
            "tags": []
          }
        }
      ]
    }
  ]
}