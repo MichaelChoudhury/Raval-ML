{
  "nbformat": 4,
  "nbformat_minor": 0,
  "metadata": {
    "colab": {
      "name": "Siraj ML Wk3 Finance",
      "version": "0.3.2",
      "provenance": [],
      "collapsed_sections": [],
      "machine_shape": "hm"
    },
    "kernelspec": {
      "name": "python3",
      "display_name": "Python 3"
    },
    "accelerator": "GPU"
  },
  "cells": [
    {
      "cell_type": "code",
      "metadata": {
        "colab_type": "code",
        "id": "lDxLQXZNF_Wj",
        "colab": {}
      },
      "source": [
        "import numpy as np\n",
        "import pandas as pd\n",
        "from sklearn.linear_model import LogisticRegression\n",
        "from sklearn.preprocessing import LabelEncoder\n",
        "from sklearn.preprocessing import OneHotEncoder\n",
        "from sklearn.preprocessing import MinMaxScaler\n",
        "from sklearn.preprocessing import StandardScaler  \n",
        "from sklearn.metrics import confusion_matrix\n",
        "from sklearn.metrics import classification_report\n",
        "from sklearn.metrics import recall_score\n",
        "from sklearn.metrics import accuracy_score\n",
        "from sklearn.model_selection import cross_val_score\n",
        "import seaborn as sns\n",
        "import matplotlib.pyplot as plt\n",
        "import sys\n",
        "import os\n",
        "from sklearn.model_selection import train_test_split"
      ],
      "execution_count": 0,
      "outputs": []
    },
    {
      "cell_type": "code",
      "metadata": {
        "id": "rEjAzkGbmmQq",
        "colab_type": "code",
        "colab": {}
      },
      "source": [
        "#os.environ['KAGGLE_USERNAME'] = 'xxx'\n",
        "#os.environ['KAGGLE_KEY'] = 'xxx'\n",
        "#!kaggle competitions download -c ieee-fraud-detection"
      ],
      "execution_count": 0,
      "outputs": []
    },
    {
      "cell_type": "code",
      "metadata": {
        "id": "WklUwcTqoShO",
        "colab_type": "code",
        "outputId": "d633dcbe-d6da-4fa7-bccf-c9856edbac42",
        "colab": {
          "base_uri": "https://localhost:8080/",
          "height": 153
        }
      },
      "source": [
        "!unzip -o test_identity.csv.zip\n",
        "!unzip -o test_transaction.csv.zip\n",
        "!unzip -o train_identity.csv.zip\n",
        "!unzip -o train_transaction.csv.zip"
      ],
      "execution_count": 3,
      "outputs": [
        {
          "output_type": "stream",
          "text": [
            "Archive:  test_identity.csv.zip\n",
            "  inflating: test_identity.csv       \n",
            "Archive:  test_transaction.csv.zip\n",
            "  inflating: test_transaction.csv    \n",
            "Archive:  train_identity.csv.zip\n",
            "  inflating: train_identity.csv      \n",
            "Archive:  train_transaction.csv.zip\n",
            "  inflating: train_transaction.csv   \n"
          ],
          "name": "stdout"
        }
      ]
    },
    {
      "cell_type": "code",
      "metadata": {
        "id": "eU-VHDliqtgG",
        "colab_type": "code",
        "colab": {}
      },
      "source": [
        "train_identity = pd.read_csv('train_identity.csv')\n",
        "test_identity = pd.read_csv('test_identity.csv')\n",
        "train_transaction = pd.read_csv('train_transaction.csv')\n",
        "test_transaction = pd.read_csv('test_transaction.csv')"
      ],
      "execution_count": 0,
      "outputs": []
    },
    {
      "cell_type": "code",
      "metadata": {
        "id": "fKMlCWCOogfN",
        "colab_type": "code",
        "colab": {}
      },
      "source": [
        "train = pd.merge(train_transaction, train_identity, on='TransactionID', how='left')\n",
        "test = pd.merge(test_transaction, test_identity, on='TransactionID', how='left')"
      ],
      "execution_count": 0,
      "outputs": []
    },
    {
      "cell_type": "code",
      "metadata": {
        "id": "ETsyUrXl97bn",
        "colab_type": "code",
        "colab": {}
      },
      "source": [
        "df = train"
      ],
      "execution_count": 0,
      "outputs": []
    },
    {
      "cell_type": "code",
      "metadata": {
        "id": "0v9fPNloEQAn",
        "colab_type": "code",
        "outputId": "f51bb822-fb0e-4001-e49d-3502ccfba2ca",
        "colab": {
          "base_uri": "https://localhost:8080/",
          "height": 34
        }
      },
      "source": [
        "df.shape"
      ],
      "execution_count": 7,
      "outputs": [
        {
          "output_type": "execute_result",
          "data": {
            "text/plain": [
              "(590540, 434)"
            ]
          },
          "metadata": {
            "tags": []
          },
          "execution_count": 7
        }
      ]
    },
    {
      "cell_type": "code",
      "metadata": {
        "id": "qY_z388dEUsV",
        "colab_type": "code",
        "outputId": "c8d28c7d-1927-4d6f-94d7-729211815325",
        "colab": {
          "base_uri": "https://localhost:8080/",
          "height": 34
        }
      },
      "source": [
        "len(df[df[\"isFraud\"]==1])/len(df)*100"
      ],
      "execution_count": 8,
      "outputs": [
        {
          "output_type": "execute_result",
          "data": {
            "text/plain": [
              "3.4990009144173126"
            ]
          },
          "metadata": {
            "tags": []
          },
          "execution_count": 8
        }
      ]
    },
    {
      "cell_type": "code",
      "metadata": {
        "id": "0-LQk-TgEYtL",
        "colab_type": "code",
        "colab": {}
      },
      "source": [
        "columns_def=pd.DataFrame({\"na_count\":df.isnull().sum().sort_values(ascending=False)})"
      ],
      "execution_count": 0,
      "outputs": []
    },
    {
      "cell_type": "code",
      "metadata": {
        "id": "lG1lPpfxEoc8",
        "colab_type": "code",
        "colab": {}
      },
      "source": [
        "columns_def[\"per\"]=columns_def[\"na_count\"]/len(df)"
      ],
      "execution_count": 0,
      "outputs": []
    },
    {
      "cell_type": "code",
      "metadata": {
        "id": "uYQlL4KjEuRF",
        "colab_type": "code",
        "colab": {}
      },
      "source": [
        "range=[0.10, 0.20 ,0.30, 0.40, 0.50, 0.60, 0.70]"
      ],
      "execution_count": 0,
      "outputs": []
    },
    {
      "cell_type": "code",
      "metadata": {
        "id": "pzQarcgaEzML",
        "colab_type": "code",
        "outputId": "5538632a-f562-4550-a54b-7285e531aab0",
        "colab": {
          "base_uri": "https://localhost:8080/",
          "height": 136
        }
      },
      "source": [
        "for i in range: \n",
        "    print (columns_def[columns_def[\"per\"]<i].shape[0]/df.shape[1])"
      ],
      "execution_count": 12,
      "outputs": [
        {
          "output_type": "stream",
          "text": [
            "0.25806451612903225\n",
            "0.41935483870967744\n",
            "0.46543778801843316\n",
            "0.46543778801843316\n",
            "0.5069124423963134\n",
            "0.5207373271889401\n",
            "0.5207373271889401\n"
          ],
          "name": "stdout"
        }
      ]
    },
    {
      "cell_type": "code",
      "metadata": {
        "id": "uGibIAQnE3ee",
        "colab_type": "code",
        "colab": {}
      },
      "source": [
        "limit=0.20"
      ],
      "execution_count": 0,
      "outputs": []
    },
    {
      "cell_type": "code",
      "metadata": {
        "id": "8gIHjwF7E6Aj",
        "colab_type": "code",
        "colab": {}
      },
      "source": [
        "columns_final=columns_def[columns_def[\"per\"]<limit].index \n",
        "\n",
        "df=df[df.columns.intersection(columns_final)]"
      ],
      "execution_count": 0,
      "outputs": []
    },
    {
      "cell_type": "code",
      "metadata": {
        "id": "Uebrfm8-E9p8",
        "colab_type": "code",
        "outputId": "31e85da8-28ac-49a0-f9f0-a9486308260a",
        "colab": {
          "base_uri": "https://localhost:8080/",
          "height": 1000
        }
      },
      "source": [
        "df[df.select_dtypes(include=['object']).columns]"
      ],
      "execution_count": 15,
      "outputs": [
        {
          "output_type": "execute_result",
          "data": {
            "text/html": [
              "<div>\n",
              "<style scoped>\n",
              "    .dataframe tbody tr th:only-of-type {\n",
              "        vertical-align: middle;\n",
              "    }\n",
              "\n",
              "    .dataframe tbody tr th {\n",
              "        vertical-align: top;\n",
              "    }\n",
              "\n",
              "    .dataframe thead th {\n",
              "        text-align: right;\n",
              "    }\n",
              "</style>\n",
              "<table border=\"1\" class=\"dataframe\">\n",
              "  <thead>\n",
              "    <tr style=\"text-align: right;\">\n",
              "      <th></th>\n",
              "      <th>ProductCD</th>\n",
              "      <th>card4</th>\n",
              "      <th>card6</th>\n",
              "      <th>P_emaildomain</th>\n",
              "    </tr>\n",
              "  </thead>\n",
              "  <tbody>\n",
              "    <tr>\n",
              "      <th>0</th>\n",
              "      <td>W</td>\n",
              "      <td>discover</td>\n",
              "      <td>credit</td>\n",
              "      <td>NaN</td>\n",
              "    </tr>\n",
              "    <tr>\n",
              "      <th>1</th>\n",
              "      <td>W</td>\n",
              "      <td>mastercard</td>\n",
              "      <td>credit</td>\n",
              "      <td>gmail.com</td>\n",
              "    </tr>\n",
              "    <tr>\n",
              "      <th>2</th>\n",
              "      <td>W</td>\n",
              "      <td>visa</td>\n",
              "      <td>debit</td>\n",
              "      <td>outlook.com</td>\n",
              "    </tr>\n",
              "    <tr>\n",
              "      <th>3</th>\n",
              "      <td>W</td>\n",
              "      <td>mastercard</td>\n",
              "      <td>debit</td>\n",
              "      <td>yahoo.com</td>\n",
              "    </tr>\n",
              "    <tr>\n",
              "      <th>4</th>\n",
              "      <td>H</td>\n",
              "      <td>mastercard</td>\n",
              "      <td>credit</td>\n",
              "      <td>gmail.com</td>\n",
              "    </tr>\n",
              "    <tr>\n",
              "      <th>5</th>\n",
              "      <td>W</td>\n",
              "      <td>visa</td>\n",
              "      <td>debit</td>\n",
              "      <td>gmail.com</td>\n",
              "    </tr>\n",
              "    <tr>\n",
              "      <th>6</th>\n",
              "      <td>W</td>\n",
              "      <td>visa</td>\n",
              "      <td>debit</td>\n",
              "      <td>yahoo.com</td>\n",
              "    </tr>\n",
              "    <tr>\n",
              "      <th>7</th>\n",
              "      <td>W</td>\n",
              "      <td>visa</td>\n",
              "      <td>debit</td>\n",
              "      <td>mail.com</td>\n",
              "    </tr>\n",
              "    <tr>\n",
              "      <th>8</th>\n",
              "      <td>H</td>\n",
              "      <td>visa</td>\n",
              "      <td>debit</td>\n",
              "      <td>anonymous.com</td>\n",
              "    </tr>\n",
              "    <tr>\n",
              "      <th>9</th>\n",
              "      <td>W</td>\n",
              "      <td>mastercard</td>\n",
              "      <td>debit</td>\n",
              "      <td>yahoo.com</td>\n",
              "    </tr>\n",
              "    <tr>\n",
              "      <th>10</th>\n",
              "      <td>C</td>\n",
              "      <td>mastercard</td>\n",
              "      <td>credit</td>\n",
              "      <td>gmail.com</td>\n",
              "    </tr>\n",
              "    <tr>\n",
              "      <th>11</th>\n",
              "      <td>C</td>\n",
              "      <td>mastercard</td>\n",
              "      <td>debit</td>\n",
              "      <td>hotmail.com</td>\n",
              "    </tr>\n",
              "    <tr>\n",
              "      <th>12</th>\n",
              "      <td>W</td>\n",
              "      <td>visa</td>\n",
              "      <td>debit</td>\n",
              "      <td>verizon.net</td>\n",
              "    </tr>\n",
              "    <tr>\n",
              "      <th>13</th>\n",
              "      <td>W</td>\n",
              "      <td>visa</td>\n",
              "      <td>debit</td>\n",
              "      <td>aol.com</td>\n",
              "    </tr>\n",
              "    <tr>\n",
              "      <th>14</th>\n",
              "      <td>W</td>\n",
              "      <td>visa</td>\n",
              "      <td>debit</td>\n",
              "      <td>yahoo.com</td>\n",
              "    </tr>\n",
              "    <tr>\n",
              "      <th>15</th>\n",
              "      <td>W</td>\n",
              "      <td>visa</td>\n",
              "      <td>debit</td>\n",
              "      <td>NaN</td>\n",
              "    </tr>\n",
              "    <tr>\n",
              "      <th>16</th>\n",
              "      <td>H</td>\n",
              "      <td>visa</td>\n",
              "      <td>debit</td>\n",
              "      <td>aol.com</td>\n",
              "    </tr>\n",
              "    <tr>\n",
              "      <th>17</th>\n",
              "      <td>H</td>\n",
              "      <td>mastercard</td>\n",
              "      <td>credit</td>\n",
              "      <td>yahoo.com</td>\n",
              "    </tr>\n",
              "    <tr>\n",
              "      <th>18</th>\n",
              "      <td>W</td>\n",
              "      <td>visa</td>\n",
              "      <td>debit</td>\n",
              "      <td>gmail.com</td>\n",
              "    </tr>\n",
              "    <tr>\n",
              "      <th>19</th>\n",
              "      <td>W</td>\n",
              "      <td>visa</td>\n",
              "      <td>debit</td>\n",
              "      <td>gmail.com</td>\n",
              "    </tr>\n",
              "    <tr>\n",
              "      <th>20</th>\n",
              "      <td>W</td>\n",
              "      <td>mastercard</td>\n",
              "      <td>debit</td>\n",
              "      <td>gmail.com</td>\n",
              "    </tr>\n",
              "    <tr>\n",
              "      <th>21</th>\n",
              "      <td>W</td>\n",
              "      <td>mastercard</td>\n",
              "      <td>debit</td>\n",
              "      <td>gmail.com</td>\n",
              "    </tr>\n",
              "    <tr>\n",
              "      <th>22</th>\n",
              "      <td>H</td>\n",
              "      <td>visa</td>\n",
              "      <td>credit</td>\n",
              "      <td>gmail.com</td>\n",
              "    </tr>\n",
              "    <tr>\n",
              "      <th>23</th>\n",
              "      <td>W</td>\n",
              "      <td>mastercard</td>\n",
              "      <td>debit</td>\n",
              "      <td>gmail.com</td>\n",
              "    </tr>\n",
              "    <tr>\n",
              "      <th>24</th>\n",
              "      <td>W</td>\n",
              "      <td>visa</td>\n",
              "      <td>debit</td>\n",
              "      <td>gmail.com</td>\n",
              "    </tr>\n",
              "    <tr>\n",
              "      <th>25</th>\n",
              "      <td>W</td>\n",
              "      <td>mastercard</td>\n",
              "      <td>debit</td>\n",
              "      <td>gmail.com</td>\n",
              "    </tr>\n",
              "    <tr>\n",
              "      <th>26</th>\n",
              "      <td>W</td>\n",
              "      <td>visa</td>\n",
              "      <td>debit</td>\n",
              "      <td>me.com</td>\n",
              "    </tr>\n",
              "    <tr>\n",
              "      <th>27</th>\n",
              "      <td>W</td>\n",
              "      <td>visa</td>\n",
              "      <td>debit</td>\n",
              "      <td>yahoo.com</td>\n",
              "    </tr>\n",
              "    <tr>\n",
              "      <th>28</th>\n",
              "      <td>W</td>\n",
              "      <td>mastercard</td>\n",
              "      <td>debit</td>\n",
              "      <td>NaN</td>\n",
              "    </tr>\n",
              "    <tr>\n",
              "      <th>29</th>\n",
              "      <td>W</td>\n",
              "      <td>visa</td>\n",
              "      <td>debit</td>\n",
              "      <td>gmail.com</td>\n",
              "    </tr>\n",
              "    <tr>\n",
              "      <th>...</th>\n",
              "      <td>...</td>\n",
              "      <td>...</td>\n",
              "      <td>...</td>\n",
              "      <td>...</td>\n",
              "    </tr>\n",
              "    <tr>\n",
              "      <th>590510</th>\n",
              "      <td>W</td>\n",
              "      <td>visa</td>\n",
              "      <td>debit</td>\n",
              "      <td>gmail.com</td>\n",
              "    </tr>\n",
              "    <tr>\n",
              "      <th>590511</th>\n",
              "      <td>W</td>\n",
              "      <td>visa</td>\n",
              "      <td>debit</td>\n",
              "      <td>aol.com</td>\n",
              "    </tr>\n",
              "    <tr>\n",
              "      <th>590512</th>\n",
              "      <td>W</td>\n",
              "      <td>visa</td>\n",
              "      <td>credit</td>\n",
              "      <td>hotmail.com</td>\n",
              "    </tr>\n",
              "    <tr>\n",
              "      <th>590513</th>\n",
              "      <td>W</td>\n",
              "      <td>visa</td>\n",
              "      <td>debit</td>\n",
              "      <td>yahoo.com</td>\n",
              "    </tr>\n",
              "    <tr>\n",
              "      <th>590514</th>\n",
              "      <td>W</td>\n",
              "      <td>visa</td>\n",
              "      <td>debit</td>\n",
              "      <td>comcast.net</td>\n",
              "    </tr>\n",
              "    <tr>\n",
              "      <th>590515</th>\n",
              "      <td>W</td>\n",
              "      <td>visa</td>\n",
              "      <td>debit</td>\n",
              "      <td>yahoo.com</td>\n",
              "    </tr>\n",
              "    <tr>\n",
              "      <th>590516</th>\n",
              "      <td>W</td>\n",
              "      <td>visa</td>\n",
              "      <td>debit</td>\n",
              "      <td>gmail.com</td>\n",
              "    </tr>\n",
              "    <tr>\n",
              "      <th>590517</th>\n",
              "      <td>W</td>\n",
              "      <td>visa</td>\n",
              "      <td>credit</td>\n",
              "      <td>hotmail.com</td>\n",
              "    </tr>\n",
              "    <tr>\n",
              "      <th>590518</th>\n",
              "      <td>W</td>\n",
              "      <td>visa</td>\n",
              "      <td>debit</td>\n",
              "      <td>gmail.com</td>\n",
              "    </tr>\n",
              "    <tr>\n",
              "      <th>590519</th>\n",
              "      <td>W</td>\n",
              "      <td>mastercard</td>\n",
              "      <td>debit</td>\n",
              "      <td>aol.com</td>\n",
              "    </tr>\n",
              "    <tr>\n",
              "      <th>590520</th>\n",
              "      <td>W</td>\n",
              "      <td>visa</td>\n",
              "      <td>debit</td>\n",
              "      <td>yahoo.com</td>\n",
              "    </tr>\n",
              "    <tr>\n",
              "      <th>590521</th>\n",
              "      <td>C</td>\n",
              "      <td>mastercard</td>\n",
              "      <td>debit</td>\n",
              "      <td>yahoo.fr</td>\n",
              "    </tr>\n",
              "    <tr>\n",
              "      <th>590522</th>\n",
              "      <td>W</td>\n",
              "      <td>visa</td>\n",
              "      <td>debit</td>\n",
              "      <td>gmail.com</td>\n",
              "    </tr>\n",
              "    <tr>\n",
              "      <th>590523</th>\n",
              "      <td>W</td>\n",
              "      <td>mastercard</td>\n",
              "      <td>debit</td>\n",
              "      <td>gmail.com</td>\n",
              "    </tr>\n",
              "    <tr>\n",
              "      <th>590524</th>\n",
              "      <td>W</td>\n",
              "      <td>mastercard</td>\n",
              "      <td>debit</td>\n",
              "      <td>gmail.com</td>\n",
              "    </tr>\n",
              "    <tr>\n",
              "      <th>590525</th>\n",
              "      <td>W</td>\n",
              "      <td>visa</td>\n",
              "      <td>debit</td>\n",
              "      <td>gmail.com</td>\n",
              "    </tr>\n",
              "    <tr>\n",
              "      <th>590526</th>\n",
              "      <td>R</td>\n",
              "      <td>visa</td>\n",
              "      <td>credit</td>\n",
              "      <td>gmail.com</td>\n",
              "    </tr>\n",
              "    <tr>\n",
              "      <th>590527</th>\n",
              "      <td>W</td>\n",
              "      <td>visa</td>\n",
              "      <td>debit</td>\n",
              "      <td>aol.com</td>\n",
              "    </tr>\n",
              "    <tr>\n",
              "      <th>590528</th>\n",
              "      <td>W</td>\n",
              "      <td>mastercard</td>\n",
              "      <td>credit</td>\n",
              "      <td>gmail.com</td>\n",
              "    </tr>\n",
              "    <tr>\n",
              "      <th>590529</th>\n",
              "      <td>C</td>\n",
              "      <td>mastercard</td>\n",
              "      <td>credit</td>\n",
              "      <td>gmail.com</td>\n",
              "    </tr>\n",
              "    <tr>\n",
              "      <th>590530</th>\n",
              "      <td>W</td>\n",
              "      <td>mastercard</td>\n",
              "      <td>credit</td>\n",
              "      <td>yahoo.com</td>\n",
              "    </tr>\n",
              "    <tr>\n",
              "      <th>590531</th>\n",
              "      <td>R</td>\n",
              "      <td>visa</td>\n",
              "      <td>credit</td>\n",
              "      <td>gmail.com</td>\n",
              "    </tr>\n",
              "    <tr>\n",
              "      <th>590532</th>\n",
              "      <td>W</td>\n",
              "      <td>mastercard</td>\n",
              "      <td>debit</td>\n",
              "      <td>optonline.net</td>\n",
              "    </tr>\n",
              "    <tr>\n",
              "      <th>590533</th>\n",
              "      <td>W</td>\n",
              "      <td>visa</td>\n",
              "      <td>debit</td>\n",
              "      <td>gmail.com</td>\n",
              "    </tr>\n",
              "    <tr>\n",
              "      <th>590534</th>\n",
              "      <td>C</td>\n",
              "      <td>mastercard</td>\n",
              "      <td>debit</td>\n",
              "      <td>gmail.com</td>\n",
              "    </tr>\n",
              "    <tr>\n",
              "      <th>590535</th>\n",
              "      <td>W</td>\n",
              "      <td>visa</td>\n",
              "      <td>debit</td>\n",
              "      <td>NaN</td>\n",
              "    </tr>\n",
              "    <tr>\n",
              "      <th>590536</th>\n",
              "      <td>W</td>\n",
              "      <td>mastercard</td>\n",
              "      <td>debit</td>\n",
              "      <td>gmail.com</td>\n",
              "    </tr>\n",
              "    <tr>\n",
              "      <th>590537</th>\n",
              "      <td>W</td>\n",
              "      <td>mastercard</td>\n",
              "      <td>debit</td>\n",
              "      <td>gmail.com</td>\n",
              "    </tr>\n",
              "    <tr>\n",
              "      <th>590538</th>\n",
              "      <td>W</td>\n",
              "      <td>mastercard</td>\n",
              "      <td>debit</td>\n",
              "      <td>aol.com</td>\n",
              "    </tr>\n",
              "    <tr>\n",
              "      <th>590539</th>\n",
              "      <td>W</td>\n",
              "      <td>mastercard</td>\n",
              "      <td>credit</td>\n",
              "      <td>gmail.com</td>\n",
              "    </tr>\n",
              "  </tbody>\n",
              "</table>\n",
              "<p>590540 rows × 4 columns</p>\n",
              "</div>"
            ],
            "text/plain": [
              "       ProductCD       card4   card6  P_emaildomain\n",
              "0              W    discover  credit            NaN\n",
              "1              W  mastercard  credit      gmail.com\n",
              "2              W        visa   debit    outlook.com\n",
              "3              W  mastercard   debit      yahoo.com\n",
              "4              H  mastercard  credit      gmail.com\n",
              "5              W        visa   debit      gmail.com\n",
              "6              W        visa   debit      yahoo.com\n",
              "7              W        visa   debit       mail.com\n",
              "8              H        visa   debit  anonymous.com\n",
              "9              W  mastercard   debit      yahoo.com\n",
              "10             C  mastercard  credit      gmail.com\n",
              "11             C  mastercard   debit    hotmail.com\n",
              "12             W        visa   debit    verizon.net\n",
              "13             W        visa   debit        aol.com\n",
              "14             W        visa   debit      yahoo.com\n",
              "15             W        visa   debit            NaN\n",
              "16             H        visa   debit        aol.com\n",
              "17             H  mastercard  credit      yahoo.com\n",
              "18             W        visa   debit      gmail.com\n",
              "19             W        visa   debit      gmail.com\n",
              "20             W  mastercard   debit      gmail.com\n",
              "21             W  mastercard   debit      gmail.com\n",
              "22             H        visa  credit      gmail.com\n",
              "23             W  mastercard   debit      gmail.com\n",
              "24             W        visa   debit      gmail.com\n",
              "25             W  mastercard   debit      gmail.com\n",
              "26             W        visa   debit         me.com\n",
              "27             W        visa   debit      yahoo.com\n",
              "28             W  mastercard   debit            NaN\n",
              "29             W        visa   debit      gmail.com\n",
              "...          ...         ...     ...            ...\n",
              "590510         W        visa   debit      gmail.com\n",
              "590511         W        visa   debit        aol.com\n",
              "590512         W        visa  credit    hotmail.com\n",
              "590513         W        visa   debit      yahoo.com\n",
              "590514         W        visa   debit    comcast.net\n",
              "590515         W        visa   debit      yahoo.com\n",
              "590516         W        visa   debit      gmail.com\n",
              "590517         W        visa  credit    hotmail.com\n",
              "590518         W        visa   debit      gmail.com\n",
              "590519         W  mastercard   debit        aol.com\n",
              "590520         W        visa   debit      yahoo.com\n",
              "590521         C  mastercard   debit       yahoo.fr\n",
              "590522         W        visa   debit      gmail.com\n",
              "590523         W  mastercard   debit      gmail.com\n",
              "590524         W  mastercard   debit      gmail.com\n",
              "590525         W        visa   debit      gmail.com\n",
              "590526         R        visa  credit      gmail.com\n",
              "590527         W        visa   debit        aol.com\n",
              "590528         W  mastercard  credit      gmail.com\n",
              "590529         C  mastercard  credit      gmail.com\n",
              "590530         W  mastercard  credit      yahoo.com\n",
              "590531         R        visa  credit      gmail.com\n",
              "590532         W  mastercard   debit  optonline.net\n",
              "590533         W        visa   debit      gmail.com\n",
              "590534         C  mastercard   debit      gmail.com\n",
              "590535         W        visa   debit            NaN\n",
              "590536         W  mastercard   debit      gmail.com\n",
              "590537         W  mastercard   debit      gmail.com\n",
              "590538         W  mastercard   debit        aol.com\n",
              "590539         W  mastercard  credit      gmail.com\n",
              "\n",
              "[590540 rows x 4 columns]"
            ]
          },
          "metadata": {
            "tags": []
          },
          "execution_count": 15
        }
      ]
    },
    {
      "cell_type": "code",
      "metadata": {
        "id": "n3LtFV8Y8-je",
        "colab_type": "code",
        "outputId": "8fc3e825-987a-4007-eae0-c548f9e3ce75",
        "colab": {
          "base_uri": "https://localhost:8080/",
          "height": 227
        }
      },
      "source": [
        "train_transaction.groupby('ProductCD')['TransactionID']\\\n",
        ".count().sort_index().plot(kind='barh'\n",
        "                           ,figsize=(15,3)\n",
        "                           ,title='Count of observ by productCD')\n",
        "plt.show()"
      ],
      "execution_count": 16,
      "outputs": [
        {
          "output_type": "display_data",
          "data": {
            "image/png": "[encoded data removed]",
            "text/plain": [
              "<Figure size 1080x216 with 1 Axes>"
            ]
          },
          "metadata": {
            "tags": []
          }
        }
      ]
    },
    {
      "cell_type": "code",
      "metadata": {
        "id": "8yT3KuoRFCBc",
        "colab_type": "code",
        "colab": {}
      },
      "source": [
        "card6_dummy_df=pd.get_dummies(df[\"card6\"])"
      ],
      "execution_count": 0,
      "outputs": []
    },
    {
      "cell_type": "code",
      "metadata": {
        "id": "WrP53JPtFGrc",
        "colab_type": "code",
        "outputId": "623e206b-a776-47f0-bdc2-59a632eac756",
        "colab": {
          "base_uri": "https://localhost:8080/",
          "height": 34
        }
      },
      "source": [
        "df.shape"
      ],
      "execution_count": 18,
      "outputs": [
        {
          "output_type": "execute_result",
          "data": {
            "text/plain": [
              "(590540, 182)"
            ]
          },
          "metadata": {
            "tags": []
          },
          "execution_count": 18
        }
      ]
    },
    {
      "cell_type": "code",
      "metadata": {
        "id": "Mzk7gYZcFJU5",
        "colab_type": "code",
        "colab": {}
      },
      "source": [
        "df=pd.concat([df,card6_dummy_df],axis=1)"
      ],
      "execution_count": 0,
      "outputs": []
    },
    {
      "cell_type": "code",
      "metadata": {
        "id": "4QYfAlCvFL9B",
        "colab_type": "code",
        "outputId": "c98d32bd-357b-43ab-eb5e-81ad3a7fd7bf",
        "colab": {
          "base_uri": "https://localhost:8080/",
          "height": 34
        }
      },
      "source": [
        "df=df._get_numeric_data()\n",
        "df=df.dropna()\n",
        "\n",
        "len(df[df[\"isFraud\"]==1])/len(df)*100"
      ],
      "execution_count": 20,
      "outputs": [
        {
          "output_type": "execute_result",
          "data": {
            "text/plain": [
              "2.0285100658469233"
            ]
          },
          "metadata": {
            "tags": []
          },
          "execution_count": 20
        }
      ]
    },
    {
      "cell_type": "code",
      "metadata": {
        "id": "-ehMtNKAFPUD",
        "colab_type": "code",
        "colab": {}
      },
      "source": [
        "x_full_df=df.drop([\"isFraud\"],axis=1)\n",
        "y_full_df=df[\"isFraud\"]"
      ],
      "execution_count": 0,
      "outputs": []
    },
    {
      "cell_type": "code",
      "metadata": {
        "id": "vU1HQkmSFTE5",
        "colab_type": "code",
        "colab": {}
      },
      "source": [
        "X_train,X_test,y_train,y_test=train_test_split(x_full_df,y_full_df,test_size=0.50)"
      ],
      "execution_count": 0,
      "outputs": []
    },
    {
      "cell_type": "code",
      "metadata": {
        "id": "WxEmhHRiFZya",
        "colab_type": "code",
        "outputId": "ac44b91f-9eba-4fd8-fa87-3e16dddab880",
        "colab": {
          "base_uri": "https://localhost:8080/",
          "height": 102
        }
      },
      "source": [
        "lr = LogisticRegression(solver='lbfgs')  \n",
        "lr.fit(X_train, y_train)"
      ],
      "execution_count": 23,
      "outputs": [
        {
          "output_type": "execute_result",
          "data": {
            "text/plain": [
              "LogisticRegression(C=1.0, class_weight=None, dual=False, fit_intercept=True,\n",
              "                   intercept_scaling=1, l1_ratio=None, max_iter=100,\n",
              "                   multi_class='warn', n_jobs=None, penalty='l2',\n",
              "                   random_state=None, solver='lbfgs', tol=0.0001, verbose=0,\n",
              "                   warm_start=False)"
            ]
          },
          "metadata": {
            "tags": []
          },
          "execution_count": 23
        }
      ]
    },
    {
      "cell_type": "code",
      "metadata": {
        "id": "UJJ-69uGFcP7",
        "colab_type": "code",
        "outputId": "d22439b6-be91-49c4-8eaa-cc726d2cc8bd",
        "colab": {
          "base_uri": "https://localhost:8080/",
          "height": 34
        }
      },
      "source": [
        "lr.score(X_test, y_test)\n"
      ],
      "execution_count": 24,
      "outputs": [
        {
          "output_type": "execute_result",
          "data": {
            "text/plain": [
              "0.979509570224918"
            ]
          },
          "metadata": {
            "tags": []
          },
          "execution_count": 24
        }
      ]
    },
    {
      "cell_type": "markdown",
      "metadata": {
        "id": "1vrDamdG7r2L",
        "colab_type": "text"
      },
      "source": [
        ""
      ]
    },
    {
      "cell_type": "code",
      "metadata": {
        "id": "Sim3PAdbFgmH",
        "colab_type": "code",
        "colab": {}
      },
      "source": [
        "y_pred=lr.predict(X_test)"
      ],
      "execution_count": 0,
      "outputs": []
    },
    {
      "cell_type": "code",
      "metadata": {
        "id": "t9JqUXS4Flxu",
        "colab_type": "code",
        "outputId": "621619fa-69be-4a33-be5b-6ceddb1ca48a",
        "colab": {
          "base_uri": "https://localhost:8080/",
          "height": 173
        }
      },
      "source": [
        "pd.crosstab(y_test, y_pred, rownames=['True'], colnames=['Predicted'], margins=True)"
      ],
      "execution_count": 26,
      "outputs": [
        {
          "output_type": "execute_result",
          "data": {
            "text/html": [
              "<div>\n",
              "<style scoped>\n",
              "    .dataframe tbody tr th:only-of-type {\n",
              "        vertical-align: middle;\n",
              "    }\n",
              "\n",
              "    .dataframe tbody tr th {\n",
              "        vertical-align: top;\n",
              "    }\n",
              "\n",
              "    .dataframe thead th {\n",
              "        text-align: right;\n",
              "    }\n",
              "</style>\n",
              "<table border=\"1\" class=\"dataframe\">\n",
              "  <thead>\n",
              "    <tr style=\"text-align: right;\">\n",
              "      <th>Predicted</th>\n",
              "      <th>0</th>\n",
              "      <th>1</th>\n",
              "      <th>All</th>\n",
              "    </tr>\n",
              "    <tr>\n",
              "      <th>True</th>\n",
              "      <th></th>\n",
              "      <th></th>\n",
              "      <th></th>\n",
              "    </tr>\n",
              "  </thead>\n",
              "  <tbody>\n",
              "    <tr>\n",
              "      <th>0</th>\n",
              "      <td>207514</td>\n",
              "      <td>35</td>\n",
              "      <td>207549</td>\n",
              "    </tr>\n",
              "    <tr>\n",
              "      <th>1</th>\n",
              "      <td>4306</td>\n",
              "      <td>0</td>\n",
              "      <td>4306</td>\n",
              "    </tr>\n",
              "    <tr>\n",
              "      <th>All</th>\n",
              "      <td>211820</td>\n",
              "      <td>35</td>\n",
              "      <td>211855</td>\n",
              "    </tr>\n",
              "  </tbody>\n",
              "</table>\n",
              "</div>"
            ],
            "text/plain": [
              "Predicted       0   1     All\n",
              "True                         \n",
              "0          207514  35  207549\n",
              "1            4306   0    4306\n",
              "All        211820  35  211855"
            ]
          },
          "metadata": {
            "tags": []
          },
          "execution_count": 26
        }
      ]
    }
  ]
}